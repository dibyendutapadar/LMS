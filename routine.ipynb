{
 "cells": [
  {
   "cell_type": "code",
   "execution_count": 4,
   "metadata": {},
   "outputs": [],
   "source": [
    "import sqlite3\n",
    "import csv\n",
    "from datetime import datetime"
   ]
  },
  {
   "cell_type": "code",
   "execution_count": 5,
   "metadata": {},
   "outputs": [],
   "source": [
    "# Step 1: Create SQLite Database\n",
    "conn = sqlite3.connect('LMS.db')\n",
    "cursor = conn.cursor()"
   ]
  },
  {
   "cell_type": "code",
   "execution_count": 6,
   "metadata": {},
   "outputs": [
    {
     "data": {
      "text/plain": [
       "<sqlite3.Cursor at 0x7fa1092ee640>"
      ]
     },
     "execution_count": 6,
     "metadata": {},
     "output_type": "execute_result"
    }
   ],
   "source": [
    "# Create the 'tasks' table\n",
    "cursor.execute('''\n",
    "    CREATE TABLE IF NOT EXISTS tasks (\n",
    "        taskId INTEGER PRIMARY KEY AUTOINCREMENT,\n",
    "        taskArea TEXT CHECK(taskArea IN ('Question', 'Assessment', 'Content', 'Course', 'Event')),\n",
    "        taskDeadline DATETIME,\n",
    "        taskTitle TEXT,\n",
    "        taskRequirement TEXT,\n",
    "        isDeleted BOOLEAN,\n",
    "        createdBy INTEGER,\n",
    "        creatorEmail TEXT,\n",
    "        assigneeId INTEGER,\n",
    "        assigneeEmail TEXT,\n",
    "        createdOn TIMESTAMP DEFAULT CURRENT_TIMESTAMP\n",
    "    )\n",
    "    ''')"
   ]
  },
  {
   "cell_type": "code",
   "execution_count": null,
   "metadata": {},
   "outputs": [],
   "source": []
  },
  {
   "cell_type": "code",
   "execution_count": 7,
   "metadata": {},
   "outputs": [],
   "source": [
    "conn.commit()\n",
    "conn.close()"
   ]
  },
  {
   "cell_type": "code",
   "execution_count": 8,
   "metadata": {},
   "outputs": [],
   "source": [
    "\n",
    "conn = sqlite3.connect('LMS.db')\n",
    "cursor = conn.cursor()\n",
    "\n",
    "# Open the CSV file and read data\n",
    "with open('task.csv', 'r') as file:\n",
    "    reader = csv.DictReader(file)\n",
    "    for row in reader:\n",
    "        # Insert data into the 'tasks' table\n",
    "        cursor.execute('''\n",
    "        INSERT INTO tasks (taskArea, taskDeadline, taskTitle, taskRequirement, isDeleted, \n",
    "                                createdBy, creatorEmail, assigneeId, assigneeEmail)\n",
    "        VALUES (?, ?, ?, ?, ?, ?, ?, ?, ?)\n",
    "        ''', (row['taskArea'], row['taskDeadline'], row['taskTitle'], row['taskRequirement'], \n",
    "                row['isDeleted'], row['createdBy'], row['creatorEmail'], row['assigneeId'], row['assigneeEmail']))\n",
    "    \n",
    "conn.commit()\n",
    "conn.close()\n",
    "\n"
   ]
  },
  {
   "cell_type": "code",
   "execution_count": 9,
   "metadata": {},
   "outputs": [
    {
     "ename": "ProgrammingError",
     "evalue": "Cannot operate on a closed database.",
     "output_type": "error",
     "traceback": [
      "\u001b[0;31m---------------------------------------------------------------------------\u001b[0m",
      "\u001b[0;31mProgrammingError\u001b[0m                          Traceback (most recent call last)",
      "Cell \u001b[0;32mIn[9], line 1\u001b[0m\n\u001b[0;32m----> 1\u001b[0m \u001b[43mconn\u001b[49m\u001b[38;5;241;43m.\u001b[39;49m\u001b[43mcommit\u001b[49m\u001b[43m(\u001b[49m\u001b[43m)\u001b[49m\n\u001b[1;32m      2\u001b[0m conn\u001b[38;5;241m.\u001b[39mclose()\n",
      "\u001b[0;31mProgrammingError\u001b[0m: Cannot operate on a closed database."
     ]
    }
   ],
   "source": [
    "conn.commit()\n",
    "conn.close()"
   ]
  },
  {
   "cell_type": "code",
   "execution_count": 12,
   "metadata": {},
   "outputs": [],
   "source": [
    "# Create the 'users' table\n",
    "conn = sqlite3.connect('LMS.db')\n",
    "cursor = conn.cursor()\n",
    "\n",
    "cursor.execute('''\n",
    "    CREATE TABLE IF NOT EXISTS users (\n",
    "        userId INTEGER PRIMARY KEY AUTOINCREMENT,\n",
    "        userName TEXT,\n",
    "        userEmail TEXT,\n",
    "        userPassword TEXT,              \n",
    "        userRole TEXT CHECK(userRole IN ('Admin', 'Author', 'Instructor', 'Learner'))\n",
    "    )\n",
    "    ''')\n",
    "conn.commit()\n",
    "conn.close()"
   ]
  },
  {
   "cell_type": "code",
   "execution_count": 13,
   "metadata": {},
   "outputs": [],
   "source": [
    "conn = sqlite3.connect('LMS.db')\n",
    "cursor = conn.cursor()\n",
    "\n",
    "# Open the CSV file and read data\n",
    "with open('user.csv', 'r') as file:\n",
    "    reader = csv.DictReader(file)\n",
    "    for row in reader:\n",
    "        # Insert data into the 'tasks' table\n",
    "        cursor.execute('''\n",
    "        INSERT INTO users (userName, userEmail, userPassword, userRole)\n",
    "        VALUES (?, ?, ?, ?)\n",
    "        ''', (row['userName'], row['userEmail'], row['userPassword'], row['userRole']))\n",
    "    \n",
    "conn.commit()\n",
    "conn.close()"
   ]
  },
  {
   "cell_type": "code",
   "execution_count": 32,
   "metadata": {},
   "outputs": [],
   "source": [
    "conn.close()"
   ]
  },
  {
   "cell_type": "code",
   "execution_count": 16,
   "metadata": {},
   "outputs": [
    {
     "name": "stderr",
     "output_type": "stream",
     "text": [
      "/var/folders/t9/8_80rddn50dfxscv_skr6yph0000gn/T/ipykernel_4675/2684364068.py:6: MovedIn20Warning: The ``declarative_base()`` function is now available as sqlalchemy.orm.declarative_base(). (deprecated since: 2.0) (Background on SQLAlchemy 2.0 at: https://sqlalche.me/e/b8d9)\n",
      "  Base = declarative_base()\n"
     ]
    }
   ],
   "source": [
    "from sqlalchemy import create_engine, Column, Integer, String, Text, ForeignKey\n",
    "from sqlalchemy.ext.declarative import declarative_base\n",
    "from sqlalchemy.orm import relationship\n",
    "import sqlalchemy.orm\n",
    "\n",
    "# Define the base model class\n",
    "Base = sqlalchemy.orm.declarative_base()\n",
    "\n",
    "# Define the Course model\n",
    "class Course(Base):\n",
    "    __tablename__ = 'course'\n",
    "    id = Column(Integer, primary_key=True)\n",
    "    title = Column(String(100), nullable=False)\n",
    "    description = Column(Text, nullable=False)\n",
    "    category = Column(String(100), nullable=False)\n",
    "    sub_category = Column(String(100), nullable=False)\n",
    "    blocks = relationship('Block', backref='course', lazy=True)\n",
    "\n",
    "# Define the Block model\n",
    "class Block(Base):\n",
    "    __tablename__ = 'block'\n",
    "    id = Column(Integer, primary_key=True)\n",
    "    title = Column(String(100), nullable=False)\n",
    "    course_id = Column(Integer, ForeignKey('course.id'), nullable=False)\n",
    "    parent_block_id = Column(Integer, ForeignKey('block.id'), nullable=True)\n",
    "    children = relationship('Block')\n",
    "    contents = relationship('Content', backref='block', lazy=True)\n",
    "\n",
    "# Define the Content model\n",
    "class Content(Base):\n",
    "    __tablename__ = 'content'\n",
    "    id = Column(Integer, primary_key=True)\n",
    "    title = Column(String(100), nullable=False)\n",
    "    text = Column(Text, nullable=False)\n",
    "    block_id = Column(Integer, ForeignKey('block.id'), nullable=False)\n",
    "\n",
    "# Create an engine that stores data in the local directory's LMS.db file.\n",
    "engine = create_engine('sqlite:///LMS.db')\n",
    "\n",
    "# Create all tables in the engine. This is equivalent to \"Create Table\" statements in raw SQL.\n",
    "Base.metadata.create_all(engine)"
   ]
  },
  {
   "cell_type": "code",
   "execution_count": 15,
   "metadata": {},
   "outputs": [
    {
     "name": "stdout",
     "output_type": "stream",
     "text": [
      "Selected tables have been deleted.\n"
     ]
    }
   ],
   "source": [
    "engine = create_engine('sqlite:///LMS.db')\n",
    "\n",
    "# Drop specific tables. Replace `Course`, `Block`, `Content` with the actual model classes.\n",
    "Course.__table__.drop(engine)\n",
    "Block.__table__.drop(engine)\n",
    "Content.__table__.drop(engine)\n",
    "\n",
    "print(\"Selected tables have been deleted.\")"
   ]
  },
  {
   "cell_type": "code",
   "execution_count": null,
   "metadata": {},
   "outputs": [],
   "source": []
  }
 ],
 "metadata": {
  "kernelspec": {
   "display_name": "Python 3",
   "language": "python",
   "name": "python3"
  },
  "language_info": {
   "codemirror_mode": {
    "name": "ipython",
    "version": 3
   },
   "file_extension": ".py",
   "mimetype": "text/x-python",
   "name": "python",
   "nbconvert_exporter": "python",
   "pygments_lexer": "ipython3",
   "version": "3.10.9"
  }
 },
 "nbformat": 4,
 "nbformat_minor": 2
}
