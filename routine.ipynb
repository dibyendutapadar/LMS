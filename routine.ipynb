{
 "cells": [
  {
   "cell_type": "code",
   "execution_count": 4,
   "metadata": {},
   "outputs": [],
   "source": [
    "import sqlite3\n",
    "import csv\n",
    "from datetime import datetime"
   ]
  },
  {
   "cell_type": "code",
   "execution_count": 3,
   "metadata": {},
   "outputs": [],
   "source": [
    "from flask import Flask, render_template, request, redirect, url_for, jsonify, session, send_file\n",
    "import sqlite3\n",
    "import math\n",
    "from flask import request\n",
    "from werkzeug.routing import BuildError\n",
    "from flask_sqlalchemy import SQLAlchemy\n",
    "from sqlalchemy import create_engine, Column, Integer, String, Text\n",
    "from sqlalchemy.ext.declarative import declarative_base\n",
    "from sqlalchemy.orm import sessionmaker\n",
    "import sqlalchemy.orm\n",
    "from sqlalchemy.orm import backref\n",
    "from sqlalchemy.orm import relationship\n",
    "import pandas as pd\n",
    "import os\n",
    "from datetime import datetime, timedelta\n",
    "import json\n",
    "import matplotlib\n",
    "from io import BytesIO\n",
    "matplotlib.use('Agg')  # Use a non-interactive backend\n",
    "from matplotlib.backends.backend_agg import FigureCanvasAgg as FigureCanvas\n",
    "import matplotlib.pyplot as plt"
   ]
  },
  {
   "cell_type": "code",
   "execution_count": 5,
   "metadata": {},
   "outputs": [],
   "source": [
    "# Step 1: Create SQLite Database\n",
    "conn = sqlite3.connect('LMS.db')\n",
    "cursor = conn.cursor()"
   ]
  },
  {
   "cell_type": "code",
   "execution_count": 6,
   "metadata": {},
   "outputs": [
    {
     "data": {
      "text/plain": [
       "<sqlite3.Cursor at 0x7fa1092ee640>"
      ]
     },
     "execution_count": 6,
     "metadata": {},
     "output_type": "execute_result"
    }
   ],
   "source": [
    "# Create the 'tasks' table\n",
    "cursor.execute('''\n",
    "    CREATE TABLE IF NOT EXISTS tasks (\n",
    "        taskId INTEGER PRIMARY KEY AUTOINCREMENT,\n",
    "        taskArea TEXT CHECK(taskArea IN ('Question', 'Assessment', 'Content', 'Course', 'Event')),\n",
    "        taskDeadline DATETIME,\n",
    "        taskTitle TEXT,\n",
    "        taskRequirement TEXT,\n",
    "        isDeleted BOOLEAN,\n",
    "        createdBy INTEGER,\n",
    "        creatorEmail TEXT,\n",
    "        assigneeId INTEGER,\n",
    "        assigneeEmail TEXT,\n",
    "        createdOn TIMESTAMP DEFAULT CURRENT_TIMESTAMP\n",
    "    )\n",
    "    ''')"
   ]
  },
  {
   "cell_type": "code",
   "execution_count": null,
   "metadata": {},
   "outputs": [],
   "source": []
  },
  {
   "cell_type": "code",
   "execution_count": 7,
   "metadata": {},
   "outputs": [],
   "source": [
    "conn.commit()\n",
    "conn.close()"
   ]
  },
  {
   "cell_type": "code",
   "execution_count": 8,
   "metadata": {},
   "outputs": [],
   "source": [
    "\n",
    "conn = sqlite3.connect('LMS.db')\n",
    "cursor = conn.cursor()\n",
    "\n",
    "# Open the CSV file and read data\n",
    "with open('task.csv', 'r') as file:\n",
    "    reader = csv.DictReader(file)\n",
    "    for row in reader:\n",
    "        # Insert data into the 'tasks' table\n",
    "        cursor.execute('''\n",
    "        INSERT INTO tasks (taskArea, taskDeadline, taskTitle, taskRequirement, isDeleted, \n",
    "                                createdBy, creatorEmail, assigneeId, assigneeEmail)\n",
    "        VALUES (?, ?, ?, ?, ?, ?, ?, ?, ?)\n",
    "        ''', (row['taskArea'], row['taskDeadline'], row['taskTitle'], row['taskRequirement'], \n",
    "                row['isDeleted'], row['createdBy'], row['creatorEmail'], row['assigneeId'], row['assigneeEmail']))\n",
    "    \n",
    "conn.commit()\n",
    "conn.close()\n",
    "\n"
   ]
  },
  {
   "cell_type": "code",
   "execution_count": 9,
   "metadata": {},
   "outputs": [
    {
     "ename": "ProgrammingError",
     "evalue": "Cannot operate on a closed database.",
     "output_type": "error",
     "traceback": [
      "\u001b[0;31m---------------------------------------------------------------------------\u001b[0m",
      "\u001b[0;31mProgrammingError\u001b[0m                          Traceback (most recent call last)",
      "Cell \u001b[0;32mIn[9], line 1\u001b[0m\n\u001b[0;32m----> 1\u001b[0m \u001b[43mconn\u001b[49m\u001b[38;5;241;43m.\u001b[39;49m\u001b[43mcommit\u001b[49m\u001b[43m(\u001b[49m\u001b[43m)\u001b[49m\n\u001b[1;32m      2\u001b[0m conn\u001b[38;5;241m.\u001b[39mclose()\n",
      "\u001b[0;31mProgrammingError\u001b[0m: Cannot operate on a closed database."
     ]
    }
   ],
   "source": [
    "conn.commit()\n",
    "conn.close()"
   ]
  },
  {
   "cell_type": "code",
   "execution_count": 12,
   "metadata": {},
   "outputs": [],
   "source": [
    "# Create the 'users' table\n",
    "conn = sqlite3.connect('LMS.db')\n",
    "cursor = conn.cursor()\n",
    "\n",
    "cursor.execute('''\n",
    "    CREATE TABLE IF NOT EXISTS users (\n",
    "        userId INTEGER PRIMARY KEY AUTOINCREMENT,\n",
    "        userName TEXT,\n",
    "        userEmail TEXT,\n",
    "        userPassword TEXT,              \n",
    "        userRole TEXT CHECK(userRole IN ('Admin', 'Author', 'Instructor', 'Learner'))\n",
    "    )\n",
    "    ''')\n",
    "conn.commit()\n",
    "conn.close()"
   ]
  },
  {
   "cell_type": "code",
   "execution_count": 13,
   "metadata": {},
   "outputs": [],
   "source": [
    "conn = sqlite3.connect('LMS.db')\n",
    "cursor = conn.cursor()\n",
    "\n",
    "# Open the CSV file and read data\n",
    "with open('user.csv', 'r') as file:\n",
    "    reader = csv.DictReader(file)\n",
    "    for row in reader:\n",
    "        # Insert data into the 'tasks' table\n",
    "        cursor.execute('''\n",
    "        INSERT INTO users (userName, userEmail, userPassword, userRole)\n",
    "        VALUES (?, ?, ?, ?)\n",
    "        ''', (row['userName'], row['userEmail'], row['userPassword'], row['userRole']))\n",
    "    \n",
    "conn.commit()\n",
    "conn.close()"
   ]
  },
  {
   "cell_type": "code",
   "execution_count": 32,
   "metadata": {},
   "outputs": [],
   "source": [
    "conn.close()"
   ]
  },
  {
   "cell_type": "code",
   "execution_count": 16,
   "metadata": {},
   "outputs": [
    {
     "name": "stderr",
     "output_type": "stream",
     "text": [
      "/var/folders/t9/8_80rddn50dfxscv_skr6yph0000gn/T/ipykernel_4675/2684364068.py:6: MovedIn20Warning: The ``declarative_base()`` function is now available as sqlalchemy.orm.declarative_base(). (deprecated since: 2.0) (Background on SQLAlchemy 2.0 at: https://sqlalche.me/e/b8d9)\n",
      "  Base = declarative_base()\n"
     ]
    }
   ],
   "source": [
    "from sqlalchemy import create_engine, Column, Integer, String, Text, ForeignKey\n",
    "from sqlalchemy.ext.declarative import declarative_base\n",
    "from sqlalchemy.orm import relationship\n",
    "import sqlalchemy.orm\n",
    "\n",
    "# Define the base model class\n",
    "Base = sqlalchemy.orm.declarative_base()\n",
    "\n",
    "# Define the Course model\n",
    "class Course(Base):\n",
    "    __tablename__ = 'course'\n",
    "    id = Column(Integer, primary_key=True)\n",
    "    title = Column(String(100), nullable=False)\n",
    "    description = Column(Text, nullable=False)\n",
    "    category = Column(String(100), nullable=False)\n",
    "    sub_category = Column(String(100), nullable=False)\n",
    "    blocks = relationship('Block', backref='course', lazy=True)\n",
    "\n",
    "# Define the Block model\n",
    "class Block(Base):\n",
    "    __tablename__ = 'block'\n",
    "    id = Column(Integer, primary_key=True)\n",
    "    title = Column(String(100), nullable=False)\n",
    "    course_id = Column(Integer, ForeignKey('course.id'), nullable=False)\n",
    "    parent_block_id = Column(Integer, ForeignKey('block.id'), nullable=True)\n",
    "    children = relationship('Block')\n",
    "    contents = relationship('Content', backref='block', lazy=True)\n",
    "\n",
    "# Define the Content model\n",
    "class Content(Base):\n",
    "    __tablename__ = 'content'\n",
    "    id = Column(Integer, primary_key=True)\n",
    "    title = Column(String(100), nullable=False)\n",
    "    text = Column(Text, nullable=False)\n",
    "    block_id = Column(Integer, ForeignKey('block.id'), nullable=False)\n",
    "\n",
    "# Create an engine that stores data in the local directory's LMS.db file.\n",
    "engine = create_engine('sqlite:///LMS.db')\n",
    "\n",
    "# Create all tables in the engine. This is equivalent to \"Create Table\" statements in raw SQL.\n",
    "Base.metadata.create_all(engine)"
   ]
  },
  {
   "cell_type": "code",
   "execution_count": 15,
   "metadata": {},
   "outputs": [
    {
     "name": "stdout",
     "output_type": "stream",
     "text": [
      "Selected tables have been deleted.\n"
     ]
    }
   ],
   "source": [
    "engine = create_engine('sqlite:///LMS.db')\n",
    "\n",
    "# Drop specific tables. Replace `Course`, `Block`, `Content` with the actual model classes.\n",
    "Course.__table__.drop(engine)\n",
    "Block.__table__.drop(engine)\n",
    "Content.__table__.drop(engine)\n",
    "\n",
    "print(\"Selected tables have been deleted.\")"
   ]
  },
  {
   "cell_type": "code",
   "execution_count": 2,
   "metadata": {},
   "outputs": [],
   "source": [
    "import pandas as pd\n",
    "df = pd.read_csv('learner_list.csv')\n",
    "    # Convert 'date' column to datetime for easier filtering\n",
    "df['date'] = pd.to_datetime(df['date'], format='%d-%m-%Y')\n"
   ]
  },
  {
   "cell_type": "code",
   "execution_count": 4,
   "metadata": {},
   "outputs": [],
   "source": [
    "data=df.groupby('courseId')['activeSeconds'].sum().sort_values(ascending=False).head(10)\n"
   ]
  },
  {
   "cell_type": "code",
   "execution_count": 5,
   "metadata": {},
   "outputs": [
    {
     "data": {
      "text/plain": [
       "array([6807.72, 5940.32, 5794.87, 5662.13, 5110.95, 4446.4 , 4360.86,\n",
       "       4153.21, 3607.7 , 3574.5 ])"
      ]
     },
     "execution_count": 5,
     "metadata": {},
     "output_type": "execute_result"
    }
   ],
   "source": [
    "data.values"
   ]
  },
  {
   "cell_type": "code",
   "execution_count": 6,
   "metadata": {},
   "outputs": [
    {
     "data": {
      "text/plain": [
       "Index([4, 10, 2, 9, 8, 5, 7, 6, 1, 3], dtype='int64', name='courseId')"
      ]
     },
     "execution_count": 6,
     "metadata": {},
     "output_type": "execute_result"
    }
   ],
   "source": [
    "data.index"
   ]
  },
  {
   "cell_type": "code",
   "execution_count": 7,
   "metadata": {},
   "outputs": [
    {
     "ename": "NameError",
     "evalue": "name 'Base' is not defined",
     "output_type": "error",
     "traceback": [
      "\u001b[1;31m---------------------------------------------------------------------------\u001b[0m",
      "\u001b[1;31mNameError\u001b[0m                                 Traceback (most recent call last)",
      "Cell \u001b[1;32mIn[7], line 7\u001b[0m\n\u001b[0;32m      4\u001b[0m \u001b[38;5;28;01mimport\u001b[39;00m \u001b[38;5;21;01msqlalchemy\u001b[39;00m\n\u001b[0;32m      6\u001b[0m engine \u001b[38;5;241m=\u001b[39m create_engine(\u001b[38;5;124m'\u001b[39m\u001b[38;5;124msqlite:///LMS.db\u001b[39m\u001b[38;5;124m'\u001b[39m)\n\u001b[1;32m----> 7\u001b[0m \u001b[43mBase\u001b[49m\u001b[38;5;241m.\u001b[39mmetadata\u001b[38;5;241m.\u001b[39mbind \u001b[38;5;241m=\u001b[39m engine\n\u001b[0;32m      8\u001b[0m DBSession \u001b[38;5;241m=\u001b[39m sessionmaker(bind\u001b[38;5;241m=\u001b[39mengine)\n\u001b[0;32m     11\u001b[0m \u001b[38;5;66;03m# Drop all tables\u001b[39;00m\n",
      "\u001b[1;31mNameError\u001b[0m: name 'Base' is not defined"
     ]
    }
   ],
   "source": [
    "from flask_sqlalchemy import SQLAlchemy\n",
    "from sqlalchemy import create_engine\n",
    "from sqlalchemy.orm import sessionmaker\n",
    "from sqlalchemy.ext.declarative import declarative_base\n",
    "import sqlalchemy\n",
    "\n",
    "Base = sqlalchemy.orm.declarative_base()\n",
    "engine = create_engine('sqlite:///LMS.db')\n",
    "Base.metadata.bind = engine\n",
    "DBSession = sessionmaker(bind=engine)\n",
    "\n",
    "\n",
    "# Drop all tables\n",
    "Course.__table__.drop(engine)"
   ]
  },
  {
   "cell_type": "code",
   "execution_count": null,
   "metadata": {},
   "outputs": [],
   "source": []
  }
 ],
 "metadata": {
  "kernelspec": {
   "display_name": "Python 3",
   "language": "python",
   "name": "python3"
  },
  "language_info": {
   "codemirror_mode": {
    "name": "ipython",
    "version": 3
   },
   "file_extension": ".py",
   "mimetype": "text/x-python",
   "name": "python",
   "nbconvert_exporter": "python",
   "pygments_lexer": "ipython3",
   "version": "3.12.1"
  }
 },
 "nbformat": 4,
 "nbformat_minor": 2
}
