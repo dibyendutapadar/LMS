{
 "cells": [
  {
   "cell_type": "code",
   "execution_count": 1,
   "metadata": {},
   "outputs": [],
   "source": [
    "import sqlite3\n",
    "import csv\n",
    "from datetime import datetime"
   ]
  },
  {
   "cell_type": "code",
   "execution_count": 21,
   "metadata": {},
   "outputs": [],
   "source": [
    "# Step 1: Create SQLite Database\n",
    "conn = sqlite3.connect('LMS.db')\n",
    "cursor = conn.cursor()"
   ]
  },
  {
   "cell_type": "code",
   "execution_count": 4,
   "metadata": {},
   "outputs": [
    {
     "data": {
      "text/plain": [
       "<sqlite3.Cursor at 0x2b66c5285c0>"
      ]
     },
     "execution_count": 4,
     "metadata": {},
     "output_type": "execute_result"
    }
   ],
   "source": [
    "# Create the 'tasks' table\n",
    "cursor.execute('''\n",
    "    CREATE TABLE IF NOT EXISTS tasks (\n",
    "        taskId INTEGER PRIMARY KEY AUTOINCREMENT,\n",
    "        taskArea TEXT CHECK(taskArea IN ('Question', 'Assessment', 'Content', 'Course', 'Event')),\n",
    "        taskDeadline DATETIME,\n",
    "        taskTitle TEXT,\n",
    "        taskRequirement TEXT,\n",
    "        isDeleted BOOLEAN,\n",
    "        createdBy INTEGER,\n",
    "        creatorEmail TEXT,\n",
    "        assigneeId INTEGER,\n",
    "        assigneeEmail TEXT,\n",
    "        createdOn TIMESTAMP DEFAULT CURRENT_TIMESTAMP\n",
    "    )\n",
    "    ''')"
   ]
  },
  {
   "cell_type": "code",
   "execution_count": null,
   "metadata": {},
   "outputs": [],
   "source": []
  },
  {
   "cell_type": "code",
   "execution_count": 5,
   "metadata": {},
   "outputs": [],
   "source": [
    "conn.commit()\n",
    "conn.close()"
   ]
  },
  {
   "cell_type": "code",
   "execution_count": 24,
   "metadata": {},
   "outputs": [],
   "source": [
    "\n",
    "conn = sqlite3.connect('LMS.db')\n",
    "cursor = conn.cursor()\n",
    "\n",
    "# Open the CSV file and read data\n",
    "with open('task.csv', 'r') as file:\n",
    "    reader = csv.DictReader(file)\n",
    "    for row in reader:\n",
    "        # Insert data into the 'tasks' table\n",
    "        cursor.execute('''\n",
    "        INSERT INTO tasks (taskArea, taskDeadline, taskTitle, taskRequirement, isDeleted, \n",
    "                                createdBy, creatorEmail, assigneeId, assigneeEmail)\n",
    "        VALUES (?, ?, ?, ?, ?, ?, ?, ?, ?)\n",
    "        ''', (row['taskArea'], row['taskDeadline'], row['taskTitle'], row['taskRequirement'], \n",
    "                row['isDeleted'], row['createdBy'], row['creatorEmail'], row['assigneeId'], row['assigneeEmail']))\n",
    "    \n",
    "conn.commit()\n",
    "conn.close()\n",
    "\n"
   ]
  },
  {
   "cell_type": "code",
   "execution_count": 23,
   "metadata": {},
   "outputs": [],
   "source": [
    "conn.commit()\n",
    "conn.close()"
   ]
  },
  {
   "cell_type": "code",
   "execution_count": 22,
   "metadata": {},
   "outputs": [
    {
     "data": {
      "text/plain": [
       "<sqlite3.Cursor at 0x2b66c4c2140>"
      ]
     },
     "execution_count": 22,
     "metadata": {},
     "output_type": "execute_result"
    }
   ],
   "source": [
    "# Create the 'users' table\n",
    "cursor.execute('''\n",
    "    CREATE TABLE IF NOT EXISTS users (\n",
    "        userId INTEGER PRIMARY KEY AUTOINCREMENT,\n",
    "        userName TEXT,\n",
    "        userEmail TEXT,\n",
    "        userPassword TEXT,              \n",
    "        userRole TEXT CHECK(userRole IN ('Admin', 'Author', 'Instructor', 'Learner'))\n",
    "    )\n",
    "    ''')"
   ]
  },
  {
   "cell_type": "code",
   "execution_count": 2,
   "metadata": {},
   "outputs": [],
   "source": [
    "conn = sqlite3.connect('LMS.db')\n",
    "cursor = conn.cursor()\n",
    "\n",
    "# Open the CSV file and read data\n",
    "with open('user.csv', 'r') as file:\n",
    "    reader = csv.DictReader(file)\n",
    "    for row in reader:\n",
    "        # Insert data into the 'tasks' table\n",
    "        cursor.execute('''\n",
    "        INSERT INTO users (userName, userEmail, userPassword, userRole)\n",
    "        VALUES (?, ?, ?, ?)\n",
    "        ''', (row['userName'], row['userEmail'], row['userPassword'], row['userRole']))\n",
    "    \n",
    "conn.commit()\n",
    "conn.close()"
   ]
  },
  {
   "cell_type": "code",
   "execution_count": 32,
   "metadata": {},
   "outputs": [],
   "source": [
    "conn.close()"
   ]
  },
  {
   "cell_type": "code",
   "execution_count": null,
   "metadata": {},
   "outputs": [],
   "source": []
  }
 ],
 "metadata": {
  "kernelspec": {
   "display_name": "Python 3",
   "language": "python",
   "name": "python3"
  },
  "language_info": {
   "codemirror_mode": {
    "name": "ipython",
    "version": 3
   },
   "file_extension": ".py",
   "mimetype": "text/x-python",
   "name": "python",
   "nbconvert_exporter": "python",
   "pygments_lexer": "ipython3",
   "version": "3.10.9"
  }
 },
 "nbformat": 4,
 "nbformat_minor": 2
}
